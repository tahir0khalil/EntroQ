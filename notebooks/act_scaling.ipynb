{
 "cells": [
  {
   "cell_type": "code",
   "execution_count": 15,
   "metadata": {},
   "outputs": [],
   "source": [
    "from datasets import load_dataset\n",
    "\n",
    "import torch\n",
    "import torch.nn as nn\n",
    "\n",
    "import os\n",
    "\n",
    "from transformers import (\n",
    "    AutoModelForCausalLM,\n",
    "    AutoTokenizer,\n",
    ")\n"
   ]
  },
  {
   "cell_type": "markdown",
   "metadata": {},
   "source": [
    "### Activation Scaling ###\n",
    "\n",
    "Before quantization we need to calculate the scaling factor. For activations, some channels are very different from the rest of channels. To make them better suited for quantization, per channel scaling factor is calculated which is max per channel of activations for a small calibration set.\n",
    "\n",
    "For first step we work with calibration dataset.\n",
    "\n",
    "1. load from load_dataset on run\n",
    "2. load it from predownloaded and stored json\n",
    "\n",
    "First load on the run.\n"
   ]
  },
  {
   "cell_type": "code",
   "execution_count": 49,
   "metadata": {},
   "outputs": [
    {
     "name": "stdout",
     "output_type": "stream",
     "text": [
      "len(calib_lines): 512\n",
      "calib_lines[0]:  = Homarus gammarus = \n",
      "\n",
      "len(calib_lines[0]): 4\n",
      "longest:  Meridian is rightly considered an architectural treasure trove being one the nations most intact cities from the turn of the last century . Architecture students from around the nation and Canada are known to visit Meridian in groups as part of their coursework due to numerous structures in the city having been designed by noted architects . The only home in the US south designed by noted Canadian born Architect Louis S. Curtiss , famous for inventing the glass curtain wall skyscraper , is extant on Highland Park . The Frank Fort designed Threefoot Building is generally considered one of the best Art Deco skyscrapers in the US and is often compared to Detroit 's famed Fisher Building . Noted California Architect Wallace Neff designed a number of homes in Meridian as well as in the Alabama Black Belt which adjoins the city across the nearby Alabama State line . He had relatives in Meridian and Selma who were executives in the then thriving railroad industry and would take commissions in the area when commissions in California were lean . His work is mostly concentrated in the lower numbered blocks of Poplar Springs Drive where his 2516 Poplar Springs Drive is often compared to the similarly designed Falcon Lair , the Beverly Hills home in Benedict Canyon of Rudolph Valentino . One Neff work was lost to an expansion of Anderson Hospital in 1990 and another in Marion Park burned in the 1950s . The Meridian Post Office with its interior done entirely of bronze and Verde marble is also noteworthy as a very fine example of the type of Post Office structures built in thriving and well to do cities in the 1920s and originally had Lalique lighting which was removed sadly during a 1960s remodeling and which are now in private residences on Poplar Springs Drive and in North Hills . \n",
      "\n",
      "len(longest): 313\n"
     ]
    }
   ],
   "source": [
    "# loading the wikitext 2 data with validation split\n",
    "ds = load_dataset(\"wikitext\", \"wikitext-2-raw-v1\", split=\"validation\") \n",
    "\n",
    "# selecting 512 sentences of non-zero lengths\n",
    "calib_lines = [s for s in ds[\"text\"] if s and len(s.strip()) > 0][:512]\n",
    "\n",
    "# seeing sentence with the longest length\n",
    "longest = max(calib_lines, key=len)\n",
    "\n",
    "print(f\"len(calib_lines): {len(calib_lines)}\")\n",
    "print(f\"calib_lines[0]: {calib_lines[0]}\")\n",
    "print(f\"len(calib_lines[0]): {len(calib_lines[0].split())}\")\n",
    "\n",
    "print(f\"longest: {longest}\")\n",
    "print(f\"len(longest): {len(longest.split())}\")"
   ]
  },
  {
   "cell_type": "code",
   "execution_count": 52,
   "metadata": {},
   "outputs": [
    {
     "name": "stderr",
     "output_type": "stream",
     "text": [
      "/home/tahir/workspace2/miniconda3/envs/smoothquant/lib/python3.8/site-packages/huggingface_hub/file_download.py:945: FutureWarning: `resume_download` is deprecated and will be removed in version 1.0.0. Downloads always resume when possible. If you want to force a new download, use `force_download=True`.\n",
      "  warnings.warn(\n"
     ]
    },
    {
     "name": "stdout",
     "output_type": "stream",
     "text": [
      "input_ids['input_ids']: tensor([[    2,    20, 19826,  2372,    32,    31,     5,  3072,   787,    12,\n",
      "          1039, 10103,  2156,     8,    51,    32,  6329,  8260,    11,   494,\n",
      "             8,   587,   479, 14201,  2156,  5676,  4775,  5621,    32,  1537,\n",
      "           227,   587,     8,   779,   479,  8314,  5621,    11,     5,  1035,\n",
      "           377,  3805,     7,    28,    55,  8067,     8,   747,  2592,  3841,\n",
      "         14489,  5315,   479,  1437, 50118]])\n",
      "=================\n",
      "Decoded: </s> The prevailing winds are from the west @-@ southwest, and they are normally strongest in March and April. Brief, intense thunderstorms are common between April and October. Thunderstorms in the summer months tend to be more isolated and often produce dry lightning strikes. \n",
      "\n",
      "=================\n",
      "calib_lines[-1]:  The prevailing winds are from the west @-@ southwest , and they are normally strongest in March and April . Brief , intense thunderstorms are common between April and October . Thunderstorms in the summer months tend to be more isolated and often produce dry lightning strikes . \n",
      "\n",
      "input_ids: {'input_ids': tensor([[    2,    20, 19826,  2372,    32,    31,     5,  3072,   787,    12,\n",
      "          1039, 10103,  2156,     8,    51,    32,  6329,  8260,    11,   494,\n",
      "             8,   587,   479, 14201,  2156,  5676,  4775,  5621,    32,  1537,\n",
      "           227,   587,     8,   779,   479,  8314,  5621,    11,     5,  1035,\n",
      "           377,  3805,     7,    28,    55,  8067,     8,   747,  2592,  3841,\n",
      "         14489,  5315,   479,  1437, 50118]]), 'attention_mask': tensor([[1, 1, 1, 1, 1, 1, 1, 1, 1, 1, 1, 1, 1, 1, 1, 1, 1, 1, 1, 1, 1, 1, 1, 1,\n",
      "         1, 1, 1, 1, 1, 1, 1, 1, 1, 1, 1, 1, 1, 1, 1, 1, 1, 1, 1, 1, 1, 1, 1, 1,\n",
      "         1, 1, 1, 1, 1, 1, 1]])}\n"
     ]
    }
   ],
   "source": [
    "'''\n",
    "Loading the tokenizer for this model then passing each sentence through the tokenizer\n",
    "tokenizer is given sentences iteratively and it produces token vector and attention mask.\n",
    "The output dictionary can be fed to model\n",
    "we can decode the token vector to see what the original sentence was.\n",
    "'''\n",
    "\n",
    "data_path = '/home/tahir/workspace2/EntroQ/dataset/val.jsonl.zst'\n",
    "MODEL_NAME = 'facebook/opt-125m' \n",
    "NUM_SAMPLES = 512 \n",
    "SEQ_LEN = 512 \n",
    "MODEL_MAX_LENGTH = 512  \n",
    "\n",
    "tokenizer = AutoTokenizer.from_pretrained(MODEL_NAME, model_max_length=MODEL_MAX_LENGTH)\n",
    "\n",
    "for i in range(512):\n",
    "    input_ids = tokenizer(\n",
    "                calib_lines[i], return_tensors=\"pt\", max_length=512, truncation=True            \n",
    "                )\n",
    "\n",
    "print(f\"input_ids['input_ids']: {input_ids['input_ids']}\")\n",
    "print(\"=================\")\n",
    "print(\"Decoded:\", tokenizer.decode(input_ids[\"input_ids\"][0]))\n",
    "print(\"=================\")\n",
    "print(f\"calib_lines[-1]: {calib_lines[-1]}\")\n",
    "print(f\"input_ids: {input_ids}\")\n"
   ]
  },
  {
   "cell_type": "code",
   "execution_count": 53,
   "metadata": {},
   "outputs": [
    {
     "name": "stdout",
     "output_type": "stream",
     "text": [
      "dataset: Dataset({\n",
      "    features: ['text'],\n",
      "    num_rows: 512\n",
      "})\n",
      "==============\n"
     ]
    },
    {
     "name": "stderr",
     "output_type": "stream",
     "text": [
      "/home/tahir/workspace2/miniconda3/envs/smoothquant/lib/python3.8/site-packages/huggingface_hub/file_download.py:945: FutureWarning: `resume_download` is deprecated and will be removed in version 1.0.0. Downloads always resume when possible. If you want to force a new download, use `force_download=True`.\n",
      "  warnings.warn(\n"
     ]
    },
    {
     "name": "stdout",
     "output_type": "stream",
     "text": [
      "input_ids['input_ids']: tensor([[    2,    20, 19826,  2372,    32,    31,     5,  3072,   787,    12,\n",
      "          1039, 10103,  2156,     8,    51,    32,  6329,  8260,    11,   494,\n",
      "             8,   587,   479, 14201,  2156,  5676,  4775,  5621,    32,  1537,\n",
      "           227,   587,     8,   779,   479,  8314,  5621,    11,     5,  1035,\n",
      "           377,  3805,     7,    28,    55,  8067,     8,   747,  2592,  3841,\n",
      "         14489,  5315,   479,  1437,  1437]])\n",
      "=================\n",
      "Decoded: </s> The prevailing winds are from the west @-@ southwest, and they are normally strongest in March and April. Brief, intense thunderstorms are common between April and October. Thunderstorms in the summer months tend to be more isolated and often produce dry lightning strikes.  \n",
      "=================\n",
      "dataset[-1]['text']:  The prevailing winds are from the west @-@ southwest , and they are normally strongest in March and April . Brief , intense thunderstorms are common between April and October . Thunderstorms in the summer months tend to be more isolated and often produce dry lightning strikes .  \n",
      "input_ids: {'input_ids': tensor([[    2,    20, 19826,  2372,    32,    31,     5,  3072,   787,    12,\n",
      "          1039, 10103,  2156,     8,    51,    32,  6329,  8260,    11,   494,\n",
      "             8,   587,   479, 14201,  2156,  5676,  4775,  5621,    32,  1537,\n",
      "           227,   587,     8,   779,   479,  8314,  5621,    11,     5,  1035,\n",
      "           377,  3805,     7,    28,    55,  8067,     8,   747,  2592,  3841,\n",
      "         14489,  5315,   479,  1437,  1437]]), 'attention_mask': tensor([[1, 1, 1, 1, 1, 1, 1, 1, 1, 1, 1, 1, 1, 1, 1, 1, 1, 1, 1, 1, 1, 1, 1, 1,\n",
      "         1, 1, 1, 1, 1, 1, 1, 1, 1, 1, 1, 1, 1, 1, 1, 1, 1, 1, 1, 1, 1, 1, 1, 1,\n",
      "         1, 1, 1, 1, 1, 1, 1]])}\n"
     ]
    }
   ],
   "source": [
    "''' \n",
    "Doing the same thing but with a saved dataset\n",
    "'''\n",
    "\n",
    "data_path = '/home/tahir/workspace2/EntroQ/dataset/val.jsonl.zst'\n",
    "MODEL_NAME = 'facebook/opt-125m' \n",
    "NUM_SAMPLES = 512 \n",
    "SEQ_LEN = 512 \n",
    "MODEL_MAX_LENGTH = 512  \n",
    "\n",
    "\n",
    "dataset = load_dataset(\"json\", data_files=data_path, split=\"train\")\n",
    "print(f\"dataset: {dataset}\")\n",
    "print(\"==============\")\n",
    "\n",
    "tokenizer = AutoTokenizer.from_pretrained(MODEL_NAME, model_max_length=MODEL_MAX_LENGTH)\n",
    "\n",
    "for i in range(512):\n",
    "    input_ids = tokenizer(\n",
    "                dataset[i][\"text\"], return_tensors=\"pt\", max_length=512, truncation=True\n",
    "            )\n",
    "\n",
    "\n",
    "print(f\"input_ids['input_ids']: {input_ids['input_ids']}\")\n",
    "print(\"=================\")\n",
    "print(\"Decoded:\", tokenizer.decode(input_ids[\"input_ids\"][0]))\n",
    "print(\"=================\")\n",
    "print(f\"dataset[-1]['text']: {dataset[-1]['text']}\")\n",
    "print(f\"input_ids: {input_ids}\")"
   ]
  },
  {
   "cell_type": "markdown",
   "metadata": {},
   "source": []
  },
  {
   "cell_type": "code",
   "execution_count": null,
   "metadata": {},
   "outputs": [],
   "source": []
  }
 ],
 "metadata": {
  "kernelspec": {
   "display_name": "smoothquant",
   "language": "python",
   "name": "python3"
  },
  "language_info": {
   "codemirror_mode": {
    "name": "ipython",
    "version": 3
   },
   "file_extension": ".py",
   "mimetype": "text/x-python",
   "name": "python",
   "nbconvert_exporter": "python",
   "pygments_lexer": "ipython3",
   "version": "3.8.20"
  }
 },
 "nbformat": 4,
 "nbformat_minor": 2
}
